{
 "cells": [
  {
   "cell_type": "code",
   "execution_count": 1,
   "metadata": {},
   "outputs": [],
   "source": [
    "import re\n",
    "import cv2\n",
    "import numpy as np\n",
    "import pandas as pd\n",
    "from PIL import Image\n",
    "from paddleocr import PaddleOCR\n",
    "from skimage.feature import match_template"
   ]
  },
  {
   "cell_type": "code",
   "execution_count": 3,
   "metadata": {},
   "outputs": [],
   "source": [
    "def non_max_suppression(boxes, scores, threshold):\n",
    "    # Mengurutkan kotak dan skor berdasarkan skor secara menurun\n",
    "    sorted_indices = np.argsort(scores)[::-1]\n",
    "    boxes = boxes[sorted_indices]\n",
    "    scores = scores[sorted_indices]\n",
    "\n",
    "    # Menginisialisasi daftar kotak yang dipilih\n",
    "    selected_boxes = []\n",
    "\n",
    "    while len(boxes) > 0:\n",
    "        # Mengambil kotak dengan skor tertinggi\n",
    "        current_box = boxes[0]\n",
    "        selected_boxes.append(current_box)\n",
    "\n",
    "        # Menghitung IoU (Intersection over Union) antara kotak saat ini dan kotak yang tersisa\n",
    "        ious = calculate_iou(current_box, boxes[1:])\n",
    "\n",
    "        # Mengambil kotak yang memiliki IoU kurang dari threshold\n",
    "        selected_indices = np.where(ious < threshold)[0]\n",
    "\n",
    "        # Menghapus kotak yang dipilih dari daftar kotak\n",
    "        boxes = boxes[selected_indices + 1]\n",
    "        scores = scores[selected_indices + 1]\n",
    "\n",
    "    return selected_boxes\n",
    "\n",
    "def calculate_iou(box, boxes):\n",
    "    # Menghitung luas kotak saat ini\n",
    "    x1 = box[0]\n",
    "    y1 = box[1]\n",
    "    x2 = box[2]\n",
    "    y2 = box[3]\n",
    "    area = (x2 - x1 + 1) * (y2 - y1 + 1)\n",
    "\n",
    "    # Menghitung luas kotak-kotak yang tersisa\n",
    "    x1s = boxes[:, 0]\n",
    "    y1s = boxes[:, 1]\n",
    "    x2s = boxes[:, 2]\n",
    "    y2s = boxes[:, 3]\n",
    "    areas = (x2s - x1s + 1) * (y2s - y1s + 1)\n",
    "\n",
    "    # Menghitung koordinat persekutuan antara kotak saat ini dan kotak-kotak yang tersisa\n",
    "    xx1s = np.maximum(x1, x1s)\n",
    "    yy1s = np.maximum(y1, y1s)\n",
    "    xx2s = np.minimum(x2, x2s)\n",
    "    yy2s = np.minimum(y2, y2s)\n",
    "\n",
    "    # Menghitung luas persekutuan\n",
    "    intersection = np.maximum(0, xx2s - xx1s + 1) * \\\n",
    "        np.maximum(0, yy2s - yy1s + 1)\n",
    "\n",
    "    # Menghitung IoU (Intersection over Union)\n",
    "    ious = intersection / (area + areas - intersection)\n",
    "\n",
    "    return ious\n",
    "\n",
    "def crop_image(image, start_x, start_y, end_x, end_y):\n",
    "    # Memotong citra berdasarkan koordinat yang diberikan\n",
    "    cropped_image = image[start_y:end_y, start_x:end_x]\n",
    "    return cropped_image\n",
    "\n",
    "def is_date(txt):\n",
    "    pattern = r\"\\b\\d{4}-\\d{2}-\\d{2}\\b\"\n",
    "    tanggal = re.findall(pattern, txt)\n",
    "    if tanggal:\n",
    "        return True\n",
    "    return False\n",
    "\n",
    "def is_time(txt):\n",
    "    pattern = r\"\\b\\d{2}:\\d{2}:\\d{2}\\b\"\n",
    "    waktu = re.findall(pattern, txt)\n",
    "    if waktu:\n",
    "        return True\n",
    "    return False\n",
    "\n",
    "def is_number(txt):\n",
    "    pattern = r\"\\b(?:\\d{1,3}(?:\\.\\d{3})*|\\d+)(?:,\\d{1,2})?\\b\"\n",
    "    angka = re.findall(pattern, txt)\n",
    "    if angka:\n",
    "        return True\n",
    "    return False"
   ]
  },
  {
   "cell_type": "code",
   "execution_count": 4,
   "metadata": {},
   "outputs": [],
   "source": [
    "threshold = 0.2\n",
    "threshold_nms = 0.5\n",
    "ocr = PaddleOCR(use_angle_cls=True, lang='en', show_log=False)"
   ]
  },
  {
   "cell_type": "code",
   "execution_count": 5,
   "metadata": {},
   "outputs": [
    {
     "ename": "NameError",
     "evalue": "name 'array_ls' is not defined",
     "output_type": "error",
     "traceback": [
      "\u001b[1;31m---------------------------------------------------------------------------\u001b[0m",
      "\u001b[1;31mNameError\u001b[0m                                 Traceback (most recent call last)",
      "\u001b[1;32mc:\\Users\\nafi\\Documents\\My Solo Project\\paddleocr\\notebooks.ipynb Cell 4\u001b[0m line \u001b[0;36m1\n\u001b[1;32m----> <a href='vscode-notebook-cell:/c%3A/Users/nafi/Documents/My%20Solo%20Project/paddleocr/notebooks.ipynb#W3sZmlsZQ%3D%3D?line=0'>1</a>\u001b[0m [line[\u001b[39m1\u001b[39m][\u001b[39m0\u001b[39m] \u001b[39mfor\u001b[39;00m line \u001b[39min\u001b[39;00m array_ls[\u001b[39m0\u001b[39m]]\n",
      "\u001b[1;31mNameError\u001b[0m: name 'array_ls' is not defined"
     ]
    }
   ],
   "source": [
    "[line[1][0] for line in array_ls[0]]"
   ]
  },
  {
   "cell_type": "code",
   "execution_count": 6,
   "metadata": {},
   "outputs": [
    {
     "ename": "FileNotFoundError",
     "evalue": "[Errno 2] No such file or directory: './image/template.jpeg'",
     "output_type": "error",
     "traceback": [
      "\u001b[1;31m---------------------------------------------------------------------------\u001b[0m",
      "\u001b[1;31mFileNotFoundError\u001b[0m                         Traceback (most recent call last)",
      "\u001b[1;32mc:\\Users\\nafi\\Documents\\My Solo Project\\paddleocr\\notebooks.ipynb Cell 5\u001b[0m line \u001b[0;36m2\n\u001b[0;32m      <a href='vscode-notebook-cell:/c%3A/Users/nafi/Documents/My%20Solo%20Project/paddleocr/notebooks.ipynb#W4sZmlsZQ%3D%3D?line=0'>1</a>\u001b[0m image_rgb \u001b[39m=\u001b[39m np\u001b[39m.\u001b[39marray(Image\u001b[39m.\u001b[39mopen(\u001b[39m\"\u001b[39m\u001b[39m./image/image.jpeg\u001b[39m\u001b[39m\"\u001b[39m)\u001b[39m.\u001b[39mconvert(\u001b[39m\"\u001b[39m\u001b[39mRGB\u001b[39m\u001b[39m\"\u001b[39m))\n\u001b[1;32m----> <a href='vscode-notebook-cell:/c%3A/Users/nafi/Documents/My%20Solo%20Project/paddleocr/notebooks.ipynb#W4sZmlsZQ%3D%3D?line=1'>2</a>\u001b[0m template_rgb \u001b[39m=\u001b[39m np\u001b[39m.\u001b[39marray(Image\u001b[39m.\u001b[39;49mopen(\u001b[39m\"\u001b[39;49m\u001b[39m./image/template.jpeg\u001b[39;49m\u001b[39m\"\u001b[39;49m)\u001b[39m.\u001b[39mconvert(\u001b[39m\"\u001b[39m\u001b[39mRGB\u001b[39m\u001b[39m\"\u001b[39m))\n\u001b[0;32m      <a href='vscode-notebook-cell:/c%3A/Users/nafi/Documents/My%20Solo%20Project/paddleocr/notebooks.ipynb#W4sZmlsZQ%3D%3D?line=2'>3</a>\u001b[0m image_gray \u001b[39m=\u001b[39m cv2\u001b[39m.\u001b[39mcvtColor(image_rgb, cv2\u001b[39m.\u001b[39mCOLOR_RGB2GRAY)\n\u001b[0;32m      <a href='vscode-notebook-cell:/c%3A/Users/nafi/Documents/My%20Solo%20Project/paddleocr/notebooks.ipynb#W4sZmlsZQ%3D%3D?line=3'>4</a>\u001b[0m template_gray \u001b[39m=\u001b[39m cv2\u001b[39m.\u001b[39mcvtColor(template_rgb, cv2\u001b[39m.\u001b[39mCOLOR_RGB2GRAY)\n",
      "File \u001b[1;32mc:\\Users\\nafi\\anaconda3\\envs\\paddle_env\\lib\\site-packages\\PIL\\Image.py:3227\u001b[0m, in \u001b[0;36mopen\u001b[1;34m(fp, mode, formats)\u001b[0m\n\u001b[0;32m   3224\u001b[0m     filename \u001b[39m=\u001b[39m fp\n\u001b[0;32m   3226\u001b[0m \u001b[39mif\u001b[39;00m filename:\n\u001b[1;32m-> 3227\u001b[0m     fp \u001b[39m=\u001b[39m builtins\u001b[39m.\u001b[39;49mopen(filename, \u001b[39m\"\u001b[39;49m\u001b[39mrb\u001b[39;49m\u001b[39m\"\u001b[39;49m)\n\u001b[0;32m   3228\u001b[0m     exclusive_fp \u001b[39m=\u001b[39m \u001b[39mTrue\u001b[39;00m\n\u001b[0;32m   3230\u001b[0m \u001b[39mtry\u001b[39;00m:\n",
      "\u001b[1;31mFileNotFoundError\u001b[0m: [Errno 2] No such file or directory: './image/template.jpeg'"
     ]
    }
   ],
   "source": [
    "image_rgb = np.array(Image.open(\"./image/image.jpeg\").convert(\"RGB\"))\n",
    "template_rgb = np.array(Image.open(\"./image/template.jpeg\").convert(\"RGB\"))\n",
    "image_gray = cv2.cvtColor(image_rgb, cv2.COLOR_RGB2GRAY)\n",
    "template_gray = cv2.cvtColor(template_rgb, cv2.COLOR_RGB2GRAY)\n",
    "result = match_template(image_gray, template_gray)\n",
    "loc = np.where(result >= threshold)\n",
    "boxes = np.column_stack((loc[1], loc[0], loc[1] + template_gray.shape[1], loc[0] + template_gray.shape[0]))\n",
    "selected_boxes = non_max_suppression(boxes, result[loc], threshold_nms)\n",
    "if len(selected_boxes) == 0:\n",
    "    print(\"BUDI\")\n",
    "else:\n",
    "    x1, y1, x2, y2 = selected_boxes[0]\n",
    "    image_rgb = image_rgb[y1:, x1:]\n",
    "    array = ocr.ocr(image_rgb, cls=True)[0]\n",
    "    array = [line[1][0] for line in array]\n",
    "    data = []\n",
    "    start = 0\n",
    "    end = 0\n",
    "    for i, result in enumerate(array):\n",
    "        if is_date(result):\n",
    "            end = i+1\n",
    "            data.append(\n",
    "                array[start:end]\n",
    "            )\n",
    "            start = i+1\n",
    "        arr_desc=[]\n",
    "        arr_type=[]\n",
    "        arr_date=[]\n",
    "        arr_time=[]\n",
    "        arr_cash=[]\n",
    "        arr_saldo_akhir=[]\n",
    "        for i, data_i in enumerate(data):\n",
    "            array_time = []\n",
    "            array_date = []\n",
    "            array_word = []\n",
    "            array_code = []\n",
    "            array_nominal = []\n",
    "            for data_j in data_i:\n",
    "                if len(data_j) == 1 and \"K\" in data_j:\n",
    "                    array_code.append(data_j)\n",
    "                elif len(data_j) == 1 and \"D\" in data_j:\n",
    "                    array_code.append(data_j)\n",
    "                elif \".\" in data_j or \",\" in data_j or \",00\" in data_j or \".00\" in data_j:\n",
    "                    array_nominal.append(data_j)\n",
    "                elif is_time(data_j):\n",
    "                    array_time.append(data_j)\n",
    "                elif is_date(data_j):\n",
    "                    array_date.append(data_j)\n",
    "                else:\n",
    "                    array_word.append(data_j)\n",
    "        word = ' '.join(array_word)\n",
    "        arr_desc.append(word)\n",
    "        arr_type.append(array_code)\n",
    "        arr_date.append(array_date)\n",
    "        arr_time.append(array_time)\n",
    "        arr_cash.append(array_nominal[0])\n",
    "        arr_saldo_akhir.append(array_nominal[1])\n",
    "table = {\n",
    "    'Keterangan': arr_desc,\n",
    "    'Tipe': arr_type,\n",
    "    'Date': arr_date,\n",
    "    'Time': arr_time,\n",
    "    'Nominal': arr_cash,\n",
    "    'Saldo Akhir': arr_saldo_akhir\n",
    "}\n",
    "table = pd.DataFrame(table)"
   ]
  },
  {
   "cell_type": "code",
   "execution_count": 14,
   "metadata": {},
   "outputs": [
    {
     "ename": "IndexError",
     "evalue": "list index out of range",
     "output_type": "error",
     "traceback": [
      "\u001b[1;31m---------------------------------------------------------------------------\u001b[0m",
      "\u001b[1;31mIndexError\u001b[0m                                Traceback (most recent call last)",
      "Cell \u001b[1;32mIn[14], line 1\u001b[0m\n\u001b[1;32m----> 1\u001b[0m array_ls[\u001b[39m1\u001b[39;49m]\n",
      "\u001b[1;31mIndexError\u001b[0m: list index out of range"
     ]
    }
   ],
   "source": [
    "array_ls[]"
   ]
  },
  {
   "cell_type": "code",
   "execution_count": 10,
   "metadata": {},
   "outputs": [
    {
     "name": "stdout",
     "output_type": "stream",
     "text": [
      "[[[212.0, 1.0], [288.0, 4.0], [287.0, 23.0], [212.0, 21.0]], ('Riwayat', 0.995233952999115)]\n",
      "[[[452.0, 3.0], [477.0, 3.0], [477.0, 31.0], [452.0, 31.0]], ('A', 0.9906746745109558)]\n",
      "[[[10.0, 78.0], [58.0, 81.0], [57.0, 97.0], [9.0, 94.0]], ('Uraian', 0.9962136149406433)]\n",
      "[[[209.0, 82.0], [239.0, 82.0], [239.0, 96.0], [209.0, 96.0]], ('Tipe', 0.9970061779022217)]\n",
      "[[[284.0, 82.0], [341.0, 82.0], [341.0, 95.0], [284.0, 95.0]], ('Nominal', 0.9971173405647278)]\n",
      "[[[397.0, 77.0], [475.0, 80.0], [475.0, 96.0], [396.0, 93.0]], ('Saldo Akhir', 0.9637417197227478)]\n",
      "[[[4.0, 115.0], [156.0, 118.0], [156.0, 133.0], [3.0, 130.0]], ('TRF/PAY/TOP-UP ECHANNEL', 0.9694861769676208)]\n",
      "[[[203.0, 117.0], [218.0, 117.0], [218.0, 132.0], [203.0, 132.0]], ('D', 0.9661812782287598)]\n",
      "[[[282.0, 115.0], [342.0, 118.0], [341.0, 134.0], [281.0, 131.0]], ('650.065,00', 0.9734980463981628)]\n",
      "[[[411.0, 115.0], [463.0, 118.0], [462.0, 134.0], [410.0, 131.0]], ('22,410,00', 0.9411954879760742)]\n",
      "[[[6.0, 132.0], [163.0, 132.0], [163.0, 147.0], [6.0, 147.0]], ('FLIPTECH LENTERA INSPIRASI', 0.9590649008750916)]\n",
      "[[[6.0, 149.0], [181.0, 149.0], [181.0, 161.0], [6.0, 161.0]], ('PERTIWI KARTU 1946902851336281', 0.9603021144866943)]\n",
      "[[[7.0, 164.0], [170.0, 164.0], [170.0, 176.0], [7.0, 176.0]], ('BANK NEGARAINDONESIA SUR', 0.9478380084037781)]\n",
      "[[[6.0, 179.0], [58.0, 179.0], [58.0, 192.0], [6.0, 192.0]], ('ABAYA IN', 0.9719717502593994)]\n",
      "[[[6.0, 209.0], [64.0, 209.0], [64.0, 222.0], [6.0, 222.0]], ('2023-01-07', 0.9888737797737122)]\n",
      "[[[147.0, 205.0], [194.0, 208.0], [193.0, 224.0], [146.0, 221.0]], ('06:47:25', 0.9590451121330261)]\n",
      "[[[5.0, 238.0], [115.0, 238.0], [115.0, 253.0], [5.0, 253.0]], ('SETOR TUNAI KARTU', 0.9617063999176025)]\n",
      "[[[205.0, 240.0], [215.0, 240.0], [215.0, 251.0], [205.0, 251.0]], ('K', 0.9941307902336121)]\n",
      "[[[284.0, 239.0], [343.0, 239.0], [343.0, 252.0], [284.0, 252.0]], ('200,000,00', 0.979880154132843)]\n",
      "[[[408.0, 235.0], [466.0, 238.0], [465.0, 254.0], [408.0, 252.0]], ('672.475,00', 0.9409530758857727)]\n",
      "[[[6.0, 255.0], [176.0, 255.0], [176.0, 267.0], [6.0, 267.0]], ('1946902851336281 BANK NEGARA', 0.9538953900337219)]\n",
      "[[[6.0, 270.0], [142.0, 270.0], [142.0, 282.0], [6.0, 282.0]], ('INDONESIA SURABAYAIN', 0.969944179058075)]\n",
      "[[[6.0, 298.0], [61.0, 298.0], [61.0, 311.0], [6.0, 311.0]], ('2023-01-07', 0.9847928285598755)]\n",
      "[[[147.0, 295.0], [194.0, 298.0], [193.0, 315.0], [146.0, 312.0]], ('06:46:37', 0.9768434762954712)]\n",
      "[[[5.0, 328.0], [144.0, 329.0], [144.0, 344.0], [5.0, 343.0]], ('TRANSFER DARI FLIPTECH', 0.9638758301734924)]\n",
      "[[[207.0, 333.0], [213.0, 333.0], [213.0, 341.0], [207.0, 341.0]], ('K', 0.8963112235069275)]\n",
      "[[[287.0, 330.0], [338.0, 330.0], [338.0, 343.0], [287.0, 343.0]], ('35.000,00', 0.9436246156692505)]\n",
      "[[[410.0, 330.0], [465.0, 330.0], [465.0, 343.0], [410.0, 343.0]], ('472,475,00', 0.9777790307998657)]\n",
      "[[[7.0, 347.0], [181.0, 347.0], [181.0, 358.0], [7.0, 358.0]], ('LENTERAINSPIRASIPERTIWI FLIP', 0.9724822044372559)]\n",
      "[[[5.0, 359.0], [147.0, 359.0], [147.0, 374.0], [5.0, 374.0]], ('API #319500510-1232830203', 0.9695262312889099)]\n",
      "[[[5.0, 374.0], [133.0, 375.0], [133.0, 388.0], [5.0, 387.0]], ('FLP319500510 319500510-', 0.9480248093605042)]\n",
      "[[[4.0, 387.0], [67.0, 390.0], [67.0, 406.0], [3.0, 403.0]], ('1232830203', 0.9932175874710083)]\n",
      "[[[6.0, 420.0], [64.0, 420.0], [64.0, 433.0], [6.0, 433.0]], ('2023-01-06', 0.9877427220344543)]\n",
      "[[[151.0, 420.0], [192.0, 420.0], [192.0, 433.0], [151.0, 433.0]], ('1034:36', 0.9658570289611816)]\n",
      "[[[5.0, 451.0], [112.0, 451.0], [112.0, 466.0], [5.0, 466.0]], ('TARIK TUNAI KARTU', 0.9517742395401001)]\n",
      "[[[203.0, 451.0], [218.0, 451.0], [218.0, 466.0], [203.0, 466.0]], ('D', 0.987699031829834)]\n",
      "[[[284.0, 452.0], [342.0, 452.0], [342.0, 464.0], [284.0, 464.0]], ('250.000,00', 0.9706098437309265)]\n",
      "[[[410.0, 452.0], [465.0, 452.0], [465.0, 464.0], [410.0, 464.0]], ('437.475,00', 0.9556432962417603)]\n",
      "[[[5.0, 464.0], [178.0, 466.0], [178.0, 481.0], [5.0, 479.0]], ('1946902851336281 BANK NEGARA', 0.9537463188171387)]\n",
      "[[[5.0, 479.0], [143.0, 481.0], [142.0, 496.0], [5.0, 494.0]], ('INDONESIA SUR ABAYA IN', 0.9399030208587646)]\n",
      "[[[6.0, 512.0], [64.0, 512.0], [64.0, 524.0], [6.0, 524.0]], ('2023-01-06', 0.9812423586845398)]\n",
      "[[[149.0, 508.0], [194.0, 511.0], [193.0, 527.0], [148.0, 524.0]], ('10:24:24', 0.9423553943634033)]\n",
      "[[[5.0, 541.0], [187.0, 541.0], [187.0, 556.0], [5.0, 556.0]], ('TRANSFER DARI NAFI HASBALLAH', 0.9606903791427612)]\n",
      "[[[207.0, 544.0], [214.0, 544.0], [214.0, 554.0], [207.0, 554.0]], ('K', 0.9787599444389343)]\n",
      "[[[284.0, 543.0], [342.0, 543.0], [342.0, 556.0], [284.0, 556.0]], ('270,060,00', 0.9411120414733887)]\n",
      "[[[408.0, 539.0], [466.0, 542.0], [465.0, 558.0], [408.0, 555.0]], ('687.475,00', 0.9530748128890991)]\n",
      "[[[4.0, 554.0], [42.0, 557.0], [41.0, 573.0], [3.0, 570.0]], ('NOOR', 0.9904430508613586)]\n",
      "[[[6.0, 588.0], [64.0, 588.0], [64.0, 601.0], [6.0, 601.0]], ('2023-01-06', 0.9922308921813965)]\n",
      "[[[147.0, 584.0], [193.0, 587.0], [192.0, 603.0], [146.0, 600.0]], ('05:05:43', 0.959701418876648)]\n",
      "[[[202.0, 630.0], [229.0, 634.0], [226.0, 652.0], [200.0, 649.0]], ('2/3', 0.9900862574577332)]\n",
      "[[[247.0, 635.0], [269.0, 635.0], [269.0, 649.0], [247.0, 649.0]], ('I>', 0.6054995059967041)]\n",
      "[[[204.0, 1032.0], [297.0, 1032.0], [297.0, 1051.0], [204.0, 1051.0]], ('Download', 0.9965574145317078)]\n"
     ]
    },
    {
     "ename": "OSError",
     "evalue": "cannot open resource",
     "output_type": "error",
     "traceback": [
      "\u001b[1;31m---------------------------------------------------------------------------\u001b[0m",
      "\u001b[1;31mOSError\u001b[0m                                   Traceback (most recent call last)",
      "\u001b[1;32mc:\\Users\\nafi\\Documents\\My Solo Project\\paddleocr\\notebooks.ipynb Cell 7\u001b[0m line \u001b[0;36m2\n\u001b[0;32m     <a href='vscode-notebook-cell:/c%3A/Users/nafi/Documents/My%20Solo%20Project/paddleocr/notebooks.ipynb#W6sZmlsZQ%3D%3D?line=18'>19</a>\u001b[0m txts \u001b[39m=\u001b[39m [line[\u001b[39m1\u001b[39m][\u001b[39m0\u001b[39m] \u001b[39mfor\u001b[39;00m line \u001b[39min\u001b[39;00m result]\n\u001b[0;32m     <a href='vscode-notebook-cell:/c%3A/Users/nafi/Documents/My%20Solo%20Project/paddleocr/notebooks.ipynb#W6sZmlsZQ%3D%3D?line=19'>20</a>\u001b[0m scores \u001b[39m=\u001b[39m [line[\u001b[39m1\u001b[39m][\u001b[39m1\u001b[39m] \u001b[39mfor\u001b[39;00m line \u001b[39min\u001b[39;00m result]\n\u001b[1;32m---> <a href='vscode-notebook-cell:/c%3A/Users/nafi/Documents/My%20Solo%20Project/paddleocr/notebooks.ipynb#W6sZmlsZQ%3D%3D?line=20'>21</a>\u001b[0m im_show \u001b[39m=\u001b[39m draw_ocr(image, boxes, txts, scores, font_path\u001b[39m=\u001b[39;49m\u001b[39m'\u001b[39;49m\u001b[39m./fonts/simfang.ttf\u001b[39;49m\u001b[39m'\u001b[39;49m)\n\u001b[0;32m     <a href='vscode-notebook-cell:/c%3A/Users/nafi/Documents/My%20Solo%20Project/paddleocr/notebooks.ipynb#W6sZmlsZQ%3D%3D?line=21'>22</a>\u001b[0m im_show \u001b[39m=\u001b[39m Image\u001b[39m.\u001b[39mfromarray(im_show)\n\u001b[0;32m     <a href='vscode-notebook-cell:/c%3A/Users/nafi/Documents/My%20Solo%20Project/paddleocr/notebooks.ipynb#W6sZmlsZQ%3D%3D?line=22'>23</a>\u001b[0m im_show\u001b[39m.\u001b[39msave(\u001b[39m'\u001b[39m\u001b[39mresult.jpg\u001b[39m\u001b[39m'\u001b[39m)\n",
      "File \u001b[1;32mc:\\Users\\nafi\\anaconda3\\envs\\paddle_env\\lib\\site-packages\\paddleocr\\tools\\infer\\utility.py:389\u001b[0m, in \u001b[0;36mdraw_ocr\u001b[1;34m(image, boxes, txts, scores, drop_score, font_path)\u001b[0m\n\u001b[0;32m    387\u001b[0m \u001b[39mif\u001b[39;00m txts \u001b[39mis\u001b[39;00m \u001b[39mnot\u001b[39;00m \u001b[39mNone\u001b[39;00m:\n\u001b[0;32m    388\u001b[0m     img \u001b[39m=\u001b[39m np\u001b[39m.\u001b[39marray(resize_img(image, input_size\u001b[39m=\u001b[39m\u001b[39m600\u001b[39m))\n\u001b[1;32m--> 389\u001b[0m     txt_img \u001b[39m=\u001b[39m text_visual(\n\u001b[0;32m    390\u001b[0m         txts,\n\u001b[0;32m    391\u001b[0m         scores,\n\u001b[0;32m    392\u001b[0m         img_h\u001b[39m=\u001b[39;49mimg\u001b[39m.\u001b[39;49mshape[\u001b[39m0\u001b[39;49m],\n\u001b[0;32m    393\u001b[0m         img_w\u001b[39m=\u001b[39;49m\u001b[39m600\u001b[39;49m,\n\u001b[0;32m    394\u001b[0m         threshold\u001b[39m=\u001b[39;49mdrop_score,\n\u001b[0;32m    395\u001b[0m         font_path\u001b[39m=\u001b[39;49mfont_path)\n\u001b[0;32m    396\u001b[0m     img \u001b[39m=\u001b[39m np\u001b[39m.\u001b[39mconcatenate([np\u001b[39m.\u001b[39marray(img), np\u001b[39m.\u001b[39marray(txt_img)], axis\u001b[39m=\u001b[39m\u001b[39m1\u001b[39m)\n\u001b[0;32m    397\u001b[0m     \u001b[39mreturn\u001b[39;00m img\n",
      "File \u001b[1;32mc:\\Users\\nafi\\anaconda3\\envs\\paddle_env\\lib\\site-packages\\paddleocr\\tools\\infer\\utility.py:533\u001b[0m, in \u001b[0;36mtext_visual\u001b[1;34m(texts, scores, img_h, img_w, threshold, font_path)\u001b[0m\n\u001b[0;32m    531\u001b[0m font_size \u001b[39m=\u001b[39m \u001b[39m20\u001b[39m\n\u001b[0;32m    532\u001b[0m txt_color \u001b[39m=\u001b[39m (\u001b[39m0\u001b[39m, \u001b[39m0\u001b[39m, \u001b[39m0\u001b[39m)\n\u001b[1;32m--> 533\u001b[0m font \u001b[39m=\u001b[39m ImageFont\u001b[39m.\u001b[39;49mtruetype(font_path, font_size, encoding\u001b[39m=\u001b[39;49m\u001b[39m\"\u001b[39;49m\u001b[39mutf-8\u001b[39;49m\u001b[39m\"\u001b[39;49m)\n\u001b[0;32m    535\u001b[0m gap \u001b[39m=\u001b[39m font_size \u001b[39m+\u001b[39m \u001b[39m5\u001b[39m\n\u001b[0;32m    536\u001b[0m txt_img_list \u001b[39m=\u001b[39m []\n",
      "File \u001b[1;32mc:\\Users\\nafi\\anaconda3\\envs\\paddle_env\\lib\\site-packages\\PIL\\ImageFont.py:1008\u001b[0m, in \u001b[0;36mtruetype\u001b[1;34m(font, size, index, encoding, layout_engine)\u001b[0m\n\u001b[0;32m   1005\u001b[0m     \u001b[39mreturn\u001b[39;00m FreeTypeFont(font, size, index, encoding, layout_engine)\n\u001b[0;32m   1007\u001b[0m \u001b[39mtry\u001b[39;00m:\n\u001b[1;32m-> 1008\u001b[0m     \u001b[39mreturn\u001b[39;00m freetype(font)\n\u001b[0;32m   1009\u001b[0m \u001b[39mexcept\u001b[39;00m \u001b[39mOSError\u001b[39;00m:\n\u001b[0;32m   1010\u001b[0m     \u001b[39mif\u001b[39;00m \u001b[39mnot\u001b[39;00m is_path(font):\n",
      "File \u001b[1;32mc:\\Users\\nafi\\anaconda3\\envs\\paddle_env\\lib\\site-packages\\PIL\\ImageFont.py:1005\u001b[0m, in \u001b[0;36mtruetype.<locals>.freetype\u001b[1;34m(font)\u001b[0m\n\u001b[0;32m   1004\u001b[0m \u001b[39mdef\u001b[39;00m \u001b[39mfreetype\u001b[39m(font):\n\u001b[1;32m-> 1005\u001b[0m     \u001b[39mreturn\u001b[39;00m FreeTypeFont(font, size, index, encoding, layout_engine)\n",
      "File \u001b[1;32mc:\\Users\\nafi\\anaconda3\\envs\\paddle_env\\lib\\site-packages\\PIL\\ImageFont.py:255\u001b[0m, in \u001b[0;36mFreeTypeFont.__init__\u001b[1;34m(self, font, size, index, encoding, layout_engine)\u001b[0m\n\u001b[0;32m    253\u001b[0m                 load_from_bytes(f)\n\u001b[0;32m    254\u001b[0m             \u001b[39mreturn\u001b[39;00m\n\u001b[1;32m--> 255\u001b[0m     \u001b[39mself\u001b[39m\u001b[39m.\u001b[39mfont \u001b[39m=\u001b[39m core\u001b[39m.\u001b[39;49mgetfont(\n\u001b[0;32m    256\u001b[0m         font, size, index, encoding, layout_engine\u001b[39m=\u001b[39;49mlayout_engine\n\u001b[0;32m    257\u001b[0m     )\n\u001b[0;32m    258\u001b[0m \u001b[39melse\u001b[39;00m:\n\u001b[0;32m    259\u001b[0m     load_from_bytes(font)\n",
      "\u001b[1;31mOSError\u001b[0m: cannot open resource"
     ]
    }
   ],
   "source": [
    "from paddleocr import PaddleOCR,draw_ocr\n",
    "# Paddleocr supports Chinese, English, French, German, Korean and Japanese.\n",
    "# You can set the parameter `lang` as `ch`, `en`, `fr`, `german`, `korean`, `japan`\n",
    "# to switch the language model in order.\n",
    "ocr = PaddleOCR(use_angle_cls=True, lang='en') # need to run only once to download and load model into memory\n",
    "img_path = 'image\\hasil POI (Point Of Interest).jpg'\n",
    "result = ocr.ocr(img_path, cls=True)\n",
    "for idx in range(len(result)):\n",
    "    res = result[idx]\n",
    "    for line in res:\n",
    "        print(line)\n",
    "\n",
    "\n",
    "# draw result\n",
    "from PIL import Image\n",
    "result = result[0]\n",
    "image = Image.open(img_path).convert('RGB')\n",
    "boxes = [line[0] for line in result]\n",
    "txts = [line[1][0] for line in result]\n",
    "scores = [line[1][1] for line in result]\n",
    "im_show = draw_ocr(image, boxes, txts, scores, font_path='./fonts/simfang.ttf')\n",
    "im_show = Image.fromarray(im_show)\n",
    "im_show.save('result.jpg')"
   ]
  },
  {
   "cell_type": "code",
   "execution_count": 1,
   "metadata": {},
   "outputs": [
    {
     "name": "stdout",
     "output_type": "stream",
     "text": [
      "100\n"
     ]
    }
   ],
   "source": [
    "a = 100\n",
    "\n",
    "if a == 100 :\n",
    "    b = 100\n",
    "    \n",
    "print(b)"
   ]
  }
 ],
 "metadata": {
  "kernelspec": {
   "display_name": "paddle_env",
   "language": "python",
   "name": "python3"
  },
  "language_info": {
   "codemirror_mode": {
    "name": "ipython",
    "version": 3
   },
   "file_extension": ".py",
   "mimetype": "text/x-python",
   "name": "python",
   "nbconvert_exporter": "python",
   "pygments_lexer": "ipython3",
   "version": "3.8.16"
  },
  "orig_nbformat": 4
 },
 "nbformat": 4,
 "nbformat_minor": 2
}
